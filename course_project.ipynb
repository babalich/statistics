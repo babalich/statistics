{
 "cells": [
  {
   "cell_type": "code",
   "execution_count": 1,
   "metadata": {},
   "outputs": [],
   "source": [
    "import numpy as np\n",
    "import pandas as pd\n",
    "import seaborn as sns\n",
    "from matplotlib import pyplot as plt\n",
    "import matplotlib.style as style\n",
    "from pylab import rcParams\n",
    "from scipy import stats\n",
    "%matplotlib inline"
   ]
  },
  {
   "cell_type": "code",
   "execution_count": 2,
   "metadata": {},
   "outputs": [
    {
     "data": {
      "text/html": [
       "<div>\n",
       "<style scoped>\n",
       "    .dataframe tbody tr th:only-of-type {\n",
       "        vertical-align: middle;\n",
       "    }\n",
       "\n",
       "    .dataframe tbody tr th {\n",
       "        vertical-align: top;\n",
       "    }\n",
       "\n",
       "    .dataframe thead th {\n",
       "        text-align: right;\n",
       "    }\n",
       "</style>\n",
       "<table border=\"1\" class=\"dataframe\">\n",
       "  <thead>\n",
       "    <tr style=\"text-align: right;\">\n",
       "      <th></th>\n",
       "      <th>Name</th>\n",
       "      <th>Position</th>\n",
       "      <th>Age</th>\n",
       "      <th>Team_from</th>\n",
       "      <th>League_from</th>\n",
       "      <th>Team_to</th>\n",
       "      <th>League_to</th>\n",
       "      <th>Season</th>\n",
       "      <th>Market_value</th>\n",
       "      <th>Transfer_fee</th>\n",
       "    </tr>\n",
       "  </thead>\n",
       "  <tbody>\n",
       "    <tr>\n",
       "      <th>4697</th>\n",
       "      <td>Silvan Widmer</td>\n",
       "      <td>Right-Back</td>\n",
       "      <td>25</td>\n",
       "      <td>Udinese Calcio</td>\n",
       "      <td>Serie A</td>\n",
       "      <td>FC Basel</td>\n",
       "      <td>Super League</td>\n",
       "      <td>2018-2019</td>\n",
       "      <td>8500000.0</td>\n",
       "      <td>4500000</td>\n",
       "    </tr>\n",
       "    <tr>\n",
       "      <th>4698</th>\n",
       "      <td>Yuya Osako</td>\n",
       "      <td>Second Striker</td>\n",
       "      <td>28</td>\n",
       "      <td>1. FC Köln</td>\n",
       "      <td>2.Bundesliga</td>\n",
       "      <td>Werder Bremen</td>\n",
       "      <td>1.Bundesliga</td>\n",
       "      <td>2018-2019</td>\n",
       "      <td>4500000.0</td>\n",
       "      <td>4500000</td>\n",
       "    </tr>\n",
       "    <tr>\n",
       "      <th>4699</th>\n",
       "      <td>Kyle Bartley</td>\n",
       "      <td>Centre-Back</td>\n",
       "      <td>27</td>\n",
       "      <td>Swansea</td>\n",
       "      <td>Championship</td>\n",
       "      <td>West Brom</td>\n",
       "      <td>Championship</td>\n",
       "      <td>2018-2019</td>\n",
       "      <td>3500000.0</td>\n",
       "      <td>4500000</td>\n",
       "    </tr>\n",
       "  </tbody>\n",
       "</table>\n",
       "</div>"
      ],
      "text/plain": [
       "               Name        Position  Age       Team_from   League_from  \\\n",
       "4697  Silvan Widmer      Right-Back   25  Udinese Calcio       Serie A   \n",
       "4698     Yuya Osako  Second Striker   28      1. FC Köln  2.Bundesliga   \n",
       "4699   Kyle Bartley     Centre-Back   27         Swansea  Championship   \n",
       "\n",
       "            Team_to     League_to     Season  Market_value  Transfer_fee  \n",
       "4697       FC Basel  Super League  2018-2019     8500000.0       4500000  \n",
       "4698  Werder Bremen  1.Bundesliga  2018-2019     4500000.0       4500000  \n",
       "4699      West Brom  Championship  2018-2019     3500000.0       4500000  "
      ]
     },
     "execution_count": 2,
     "metadata": {},
     "output_type": "execute_result"
    }
   ],
   "source": [
    "data = pd.read_csv('top250.csv')\n",
    "data.tail(3)"
   ]
  },
  {
   "cell_type": "markdown",
   "metadata": {},
   "source": [
    "Для начала небольшое описание датасета: <br>\n",
    "Name: Фамилия Имя футболиста <br>\n",
    "Position: Номинальная зона на поле, в которой действует игрок. \"Профессия\" игрока. <br>\n",
    "Age: Возраст <br>\n",
    "Team_from: Из какой команды был продан <br>\n",
    "League_from: В какой лиге играл <br>\n",
    "Team_to: В какую команду был куплен <br>\n",
    "League_to: В какую лигу был куплен <br>\n",
    "Season: В каком сезоне состоялась сделка. Сезон играется период с августа по июнь, года описывают сроки сезона<br>\n",
    "Market_value: Прогнозная стоимость футболиста, исходя из его профессиональных качеств. Рыночную стоимость каждый источник/специалист считает по своим алгоритмам и схемам<br>\n",
    "Transfer_fee: фактическая стоимость сделки, сколько денег один клуб передал другому. "
   ]
  },
  {
   "cell_type": "code",
   "execution_count": 3,
   "metadata": {},
   "outputs": [],
   "source": [
    "data.Season = data.Season.str[-2:]\n",
    "data.Season = data.Season.astype('int')"
   ]
  },
  {
   "cell_type": "markdown",
   "metadata": {},
   "source": [
    "Перед нами датасет, который содержит информацию о топ 250 самых дорогих переходах футболистов из одной команды в другую. \n",
    "Всего перед нами 4700 наблюдений, которые содержат основную информацию о трансфере.\n",
    "Какой-то конкретной задачи я перед собой не ставил, просто попробуем \"покрутить\" данные, используя изученные ранее методы.\n",
    "Как мы видим, в нашем датасете в основном представлены категориальные признаки."
   ]
  },
  {
   "cell_type": "markdown",
   "metadata": {},
   "source": [
    "#### Гипотеза 1. Позиция игрока влияет на его трансферную стоимость.\n",
    "Позиция игрока - это категориальная переменная. Для проверки данной гипотезы мы будем пользоваться однофакторным дисперсионным анализом. \n",
    "В качестве нулевой гипотезы берется утверждение, что средние цены игроков по позициям будут равны"
   ]
  },
  {
   "cell_type": "code",
   "execution_count": 4,
   "metadata": {},
   "outputs": [],
   "source": [
    "# предварительно удаляем наблюдения, которые содержат неполную информацию о позиции\n",
    "trash = ['Forward', 'Sweeper', 'Defender', 'Midfielder']\n",
    "data = data.loc[~data.Position.isin(trash)]"
   ]
  },
  {
   "cell_type": "code",
   "execution_count": 5,
   "metadata": {},
   "outputs": [],
   "source": [
    "# вытаскиваем список уникальных позиций\n",
    "positions = data.Position.unique()"
   ]
  },
  {
   "cell_type": "code",
   "execution_count": 6,
   "metadata": {},
   "outputs": [
    {
     "data": {
      "text/plain": [
       "Position\n",
       "Left Winger           12904644.0\n",
       "Right Winger          11930361.0\n",
       "Central Midfield      10096242.0\n",
       "Attacking Midfield     9824178.0\n",
       "Centre-Forward         9590271.0\n",
       "Defensive Midfield     8992019.0\n",
       "Second Striker         8790154.0\n",
       "Centre-Back            8448592.0\n",
       "Right-Back             8254309.0\n",
       "Left-Back              7718933.0\n",
       "Goalkeeper             7622667.0\n",
       "Right Midfield         7404127.0\n",
       "Left Midfield          6717126.0\n",
       "Name: Transfer_fee, dtype: float64"
      ]
     },
     "execution_count": 6,
     "metadata": {},
     "output_type": "execute_result"
    }
   ],
   "source": [
    "round(data.groupby('Position').mean()['Transfer_fee']).sort_values(ascending=False)"
   ]
  },
  {
   "cell_type": "markdown",
   "metadata": {},
   "source": [
    "Мы видим явное расхождение по стоимости игроков среди разных амплуа.\n",
    "<br>\n",
    "Построим графики распределения цен игроков по их позициям."
   ]
  },
  {
   "cell_type": "code",
   "execution_count": 7,
   "metadata": {},
   "outputs": [
    {
     "data": {
      "image/png": "[encoded data removed]",
      "text/plain": [
       "<Figure size 1080x1224 with 15 Axes>"
      ]
     },
     "metadata": {
      "needs_background": "light"
     },
     "output_type": "display_data"
    }
   ],
   "source": [
    "fig, ax = plt.subplots(nrows=5, ncols=3)\n",
    "axf = ax.flatten()\n",
    "for i,pos in enumerate(positions[:]):\n",
    "    axf[i].hist(data.Transfer_fee[data.Position == pos], bins=data.Transfer_fee[data.Position == pos].shape[0])\n",
    "    axf[i].set_title(f'Гистограмма {pos}')\n",
    "fig.set_size_inches(15,17)\n",
    "plt.subplots_adjust(wspace=0.5,hspace=1)"
   ]
  },
  {
   "cell_type": "markdown",
   "metadata": {},
   "source": [
    "Мы видим, что гистограммы \"на глаз\" различаются"
   ]
  },
  {
   "cell_type": "code",
   "execution_count": 8,
   "metadata": {},
   "outputs": [],
   "source": [
    "k = positions.size # количество выборок\n",
    "n = data.shape[0] # общее количество наблюдений\n",
    "y = data.Transfer_fee.mean() # среднее по выборке"
   ]
  },
  {
   "cell_type": "markdown",
   "metadata": {},
   "source": [
    "$$S_b^2 = \\displaystyle\\sum_{i=1}^k (\\overline{y}_i - \\overline{y})^2 n_i, \\:\\:\n",
    "S_w^{2} = \\displaystyle\\sum_{i=1}^k \\displaystyle\\sum_{j=1}^{n_i} (y_{ij} - \\overline{y}_i)^2$$"
   ]
  },
  {
   "cell_type": "code",
   "execution_count": 9,
   "metadata": {},
   "outputs": [],
   "source": [
    "S2_b = 0\n",
    "for i in positions:\n",
    "    y_i = data.Transfer_fee[data.Position == i].mean()\n",
    "    n1 = data[data.Position == i].shape[0]\n",
    "    S2_b += ((y_i - y)**2 * n1)"
   ]
  },
  {
   "cell_type": "code",
   "execution_count": 10,
   "metadata": {},
   "outputs": [],
   "source": [
    "S2_w = 0\n",
    "for i in positions:\n",
    "    y_i = data.Transfer_fee[data.Position == i].mean()\n",
    "    S2_w += ((data.Transfer_fee[data.Position==i] - y_i)**2).sum()"
   ]
  },
  {
   "cell_type": "markdown",
   "metadata": {},
   "source": [
    "$$\\sigma_b^2 = \\dfrac{S_b^2}{k - 1}, \\:\\: \\sigma_w^2 = \\dfrac{S_w^2}{n - k}$$"
   ]
  },
  {
   "cell_type": "code",
   "execution_count": 11,
   "metadata": {},
   "outputs": [
    {
     "data": {
      "text/plain": [
       "(721336215304666.0, 107444182854176.77)"
      ]
     },
     "execution_count": 11,
     "metadata": {},
     "output_type": "execute_result"
    }
   ],
   "source": [
    "k1 = k-1\n",
    "k2 = n-k\n",
    "sigma2_b = S2_b / (k-1)\n",
    "sigma2_w = S2_w / (n-k)\n",
    "sigma2_b, sigma2_w"
   ]
  },
  {
   "cell_type": "code",
   "execution_count": 12,
   "metadata": {},
   "outputs": [
    {
     "data": {
      "text/plain": [
       "6.713590220921159"
      ]
     },
     "execution_count": 12,
     "metadata": {},
     "output_type": "execute_result"
    }
   ],
   "source": [
    "F = sigma2_b / sigma2_w\n",
    "F"
   ]
  },
  {
   "cell_type": "code",
   "execution_count": 13,
   "metadata": {},
   "outputs": [
    {
     "data": {
      "text/plain": [
       "1.7542367531296175"
      ]
     },
     "execution_count": 13,
     "metadata": {},
     "output_type": "execute_result"
    }
   ],
   "source": [
    "alpha = 0.05\n",
    "\n",
    "F_crit = stats.f.ppf(1 - alpha, k1, k2)\n",
    "F_crit"
   ]
  },
  {
   "cell_type": "markdown",
   "metadata": {},
   "source": [
    "$F > F_{crit}$, поэтому отвергаем нулевую гипотезу, и делаем вывод, что стоимость игрока зависит от его позиции на поле"
   ]
  },
  {
   "cell_type": "markdown",
   "metadata": {},
   "source": [
    "#### 1.1 Повторим проделанную процедуру, но сузим список амплуа до игроков середины поля.\n",
    "Делаем мы это для того, чтобы понять - действительно ли важна конкретная позиция на поле, или только определенные области на поле и функции игрока. То есть мы предполагаем, что на самом деле разница суммы трансфера обусловена более общим делением на группы (нападающий, полузащитник, защитник, вратарь), а внутри этих групп разницы не будет."
   ]
  },
  {
   "cell_type": "code",
   "execution_count": 14,
   "metadata": {},
   "outputs": [
    {
     "data": {
      "text/plain": [
       "Position\n",
       "Left Winger           12904644.0\n",
       "Right Winger          11930361.0\n",
       "Central Midfield      10096242.0\n",
       "Attacking Midfield     9824178.0\n",
       "Centre-Forward         9590271.0\n",
       "Defensive Midfield     8992019.0\n",
       "Second Striker         8790154.0\n",
       "Centre-Back            8448592.0\n",
       "Right-Back             8254309.0\n",
       "Left-Back              7718933.0\n",
       "Goalkeeper             7622667.0\n",
       "Right Midfield         7404127.0\n",
       "Left Midfield          6717126.0\n",
       "Name: Transfer_fee, dtype: float64"
      ]
     },
     "execution_count": 14,
     "metadata": {},
     "output_type": "execute_result"
    }
   ],
   "source": [
    "round(data.groupby('Position').mean()['Transfer_fee']).sort_values(ascending=False)"
   ]
  },
  {
   "cell_type": "code",
   "execution_count": 15,
   "metadata": {},
   "outputs": [],
   "source": [
    "# позиции выбраны исключительно моим видением распределения ролей в данной игре,\n",
    "# подробно описывать что и почему не имеет смысла в рамках работы по статистике :) \n",
    "midfielders = ['Central Midfield', 'Attacking Midfield', 'Defensive Midfield']"
   ]
  },
  {
   "cell_type": "code",
   "execution_count": 16,
   "metadata": {},
   "outputs": [],
   "source": [
    "km = len(midfielders) # количество выборок\n",
    "nm = data.Transfer_fee[data.Position.isin(midfielders)].shape[0] # общее количество наблюдений\n",
    "ym = data.Transfer_fee[data.Position.isin(midfielders)].mean() # среднее по выборке"
   ]
  },
  {
   "cell_type": "code",
   "execution_count": 17,
   "metadata": {},
   "outputs": [],
   "source": [
    "Sm2_b = 0\n",
    "for i in midfielders:\n",
    "    y_i = data.Transfer_fee[data.Position == i].mean()\n",
    "    nm1 = data[data.Position == i].shape[0]\n",
    "    Sm2_b += ((y_i - ym)**2 * nm1)"
   ]
  },
  {
   "cell_type": "code",
   "execution_count": 18,
   "metadata": {},
   "outputs": [],
   "source": [
    "Sm2_w = 0\n",
    "for i in midfielders:\n",
    "    y_i = data.Transfer_fee[data.Position == i].mean()\n",
    "    Sm2_w += ((data.Transfer_fee[data.Position==i] - y_i)**2).sum()"
   ]
  },
  {
   "cell_type": "code",
   "execution_count": 19,
   "metadata": {},
   "outputs": [
    {
     "data": {
      "text/plain": [
       "(143751573816031.22, 99998308258663.31)"
      ]
     },
     "execution_count": 19,
     "metadata": {},
     "output_type": "execute_result"
    }
   ],
   "source": [
    "km1 = km-1\n",
    "km2 = nm-km\n",
    "sigmam2_b = Sm2_b / (km-1)\n",
    "sigmam2_w = Sm2_w / (nm-km)\n",
    "sigmam2_b, sigmam2_w"
   ]
  },
  {
   "cell_type": "code",
   "execution_count": 20,
   "metadata": {},
   "outputs": [
    {
     "data": {
      "text/plain": [
       "1.4375400576196984"
      ]
     },
     "execution_count": 20,
     "metadata": {},
     "output_type": "execute_result"
    }
   ],
   "source": [
    "Fm = sigmam2_b / sigmam2_w\n",
    "Fm"
   ]
  },
  {
   "cell_type": "code",
   "execution_count": 21,
   "metadata": {},
   "outputs": [
    {
     "data": {
      "text/plain": [
       "3.0025362063516057"
      ]
     },
     "execution_count": 21,
     "metadata": {},
     "output_type": "execute_result"
    }
   ],
   "source": [
    "alpha = 0.05\n",
    "\n",
    "Fm_crit = stats.f.ppf(1 - alpha, km1, km2)\n",
    "Fm_crit"
   ]
  },
  {
   "cell_type": "markdown",
   "metadata": {},
   "source": [
    "Как видим, $F < F_{crit}$, значит гипотеза о том, что средние зарплаты среди групп 'Central Midfield', 'Attacking Midfield', 'Defensive Midfield', равны, верна. <br><br>\n",
    "Наверное, это немного запутанно для человека, который не увлекается данным спортом, но логика примерно следующая: есть зона, в которой играет футболист, и внутри зоны есть специализации. Исходя из нашего анализа мы получили вывод о том, что важна именно игровая зона футболиста, но специализация внутри этой зоны не влияет на его стоимость на трансферном рынке."
   ]
  },
  {
   "cell_type": "markdown",
   "metadata": {},
   "source": [
    "#### 2. Взаимосвязь величин Market_value и Transfer_fee\n",
    "Рыночная стоимость игрока - это прогноз, который делает тот или иной специалист, основываясь на своих методах и данных.\n",
    "Трансферная стоимость - это фактическая стоимость совершенной сделки. Мы хотим понять, насколько взаимосвязаны данные величины. <br>\n",
    "Для начала посмотрим на средние значения данных признаков, а так же посмотрим на их корреляцию. Также оценим остальные признаки, которые можно попробовать использовать для предсказания стоимости трансфера"
   ]
  },
  {
   "cell_type": "code",
   "execution_count": 22,
   "metadata": {},
   "outputs": [
    {
     "data": {
      "text/plain": [
       "(8622469.476744186, 9457110.140605027)"
      ]
     },
     "execution_count": 22,
     "metadata": {},
     "output_type": "execute_result"
    }
   ],
   "source": [
    "# Market_value содержит некоторое количество Nan\n",
    "data.Market_value[data.Market_value > 0].mean(), data.Transfer_fee.mean()"
   ]
  },
  {
   "cell_type": "code",
   "execution_count": 23,
   "metadata": {},
   "outputs": [
    {
     "data": {
      "text/html": [
       "<div>\n",
       "<style scoped>\n",
       "    .dataframe tbody tr th:only-of-type {\n",
       "        vertical-align: middle;\n",
       "    }\n",
       "\n",
       "    .dataframe tbody tr th {\n",
       "        vertical-align: top;\n",
       "    }\n",
       "\n",
       "    .dataframe thead th {\n",
       "        text-align: right;\n",
       "    }\n",
       "</style>\n",
       "<table border=\"1\" class=\"dataframe\">\n",
       "  <thead>\n",
       "    <tr style=\"text-align: right;\">\n",
       "      <th></th>\n",
       "      <th>Market_value</th>\n",
       "      <th>Transfer_fee</th>\n",
       "      <th>Season</th>\n",
       "      <th>Age</th>\n",
       "    </tr>\n",
       "  </thead>\n",
       "  <tbody>\n",
       "    <tr>\n",
       "      <th>Market_value</th>\n",
       "      <td>1.000000</td>\n",
       "      <td>0.830573</td>\n",
       "      <td>0.211755</td>\n",
       "      <td>0.142739</td>\n",
       "    </tr>\n",
       "    <tr>\n",
       "      <th>Transfer_fee</th>\n",
       "      <td>0.830573</td>\n",
       "      <td>1.000000</td>\n",
       "      <td>0.303738</td>\n",
       "      <td>-0.020617</td>\n",
       "    </tr>\n",
       "    <tr>\n",
       "      <th>Season</th>\n",
       "      <td>0.211755</td>\n",
       "      <td>0.303738</td>\n",
       "      <td>1.000000</td>\n",
       "      <td>-0.018722</td>\n",
       "    </tr>\n",
       "    <tr>\n",
       "      <th>Age</th>\n",
       "      <td>0.142739</td>\n",
       "      <td>-0.020617</td>\n",
       "      <td>-0.018722</td>\n",
       "      <td>1.000000</td>\n",
       "    </tr>\n",
       "  </tbody>\n",
       "</table>\n",
       "</div>"
      ],
      "text/plain": [
       "              Market_value  Transfer_fee    Season       Age\n",
       "Market_value      1.000000      0.830573  0.211755  0.142739\n",
       "Transfer_fee      0.830573      1.000000  0.303738 -0.020617\n",
       "Season            0.211755      0.303738  1.000000 -0.018722\n",
       "Age               0.142739     -0.020617 -0.018722  1.000000"
      ]
     },
     "execution_count": 23,
     "metadata": {},
     "output_type": "execute_result"
    }
   ],
   "source": [
    "data[['Market_value', 'Transfer_fee', 'Season', 'Age']][data.Market_value > 0].corr()"
   ]
  },
  {
   "cell_type": "markdown",
   "metadata": {},
   "source": [
    "Мы видим, что корреляция между Market_value и целевой переменной очень высокая. Построим графики зависимости стоимости от заданных переменных"
   ]
  },
  {
   "cell_type": "code",
   "execution_count": 24,
   "metadata": {},
   "outputs": [
    {
     "data": {
      "image/png": "[encoded data removed]",
      "text/plain": [
       "<Figure size 1080x504 with 3 Axes>"
      ]
     },
     "metadata": {
      "needs_background": "light"
     },
     "output_type": "display_data"
    }
   ],
   "source": [
    "cols =['Market_value', 'Season', 'Age']\n",
    "fig, ax = plt.subplots(nrows=1, ncols=3)\n",
    "axf = ax.flatten()\n",
    "for i, y in enumerate(cols[:]):\n",
    "    axf[i].scatter(data[y], data.Transfer_fee)\n",
    "    axf[i].set_title(f'Гистограмма {y}')\n",
    "    axf[i].set_ylim(0, 150000000)\n",
    "fig.set_size_inches(15,7)\n",
    "plt.subplots_adjust(wspace=0.5,hspace=1)"
   ]
  },
  {
   "cell_type": "markdown",
   "metadata": {},
   "source": [
    "На графиках мы видим, явный рост Transfer_fee вместе с ростом Market_value, что согласуется с высоким коэффициентом корреляции. <br>\n",
    "В случае с признаком Season рост так же наблюдается, но менее выраженный. Так, с течением времени стоимость увеличивается, но незначительно.<br>\n",
    "А вот возрастом интереснее - пик стоимости футболиста приходится на 25 лет, до этого момента цена растет. После - падает. Это вполне согласуется со здравым смыслом, однако нам это говорит о том, что возраст не стоит использовать в качестве признака для регрессии. <br>\n",
    "На самом деле год, как количественный показатель, это тоже сомнительный признак для регрессии, но в рамках данного дата-сета я закрываю на это глаза"
   ]
  },
  {
   "cell_type": "code",
   "execution_count": 25,
   "metadata": {},
   "outputs": [],
   "source": [
    "# создадим для удобства две матрицы\n",
    "X = data[['Season', 'Market_value']][data.Market_value > 0].values\n",
    "Y = data['Transfer_fee'][data.Market_value > 0].values"
   ]
  },
  {
   "cell_type": "markdown",
   "metadata": {},
   "source": [
    "Дальше считаем коэффициенты регрессии через МНК, без особых отличий от методички"
   ]
  },
  {
   "cell_type": "code",
   "execution_count": 26,
   "metadata": {},
   "outputs": [],
   "source": [
    "ones = np.ones((X.shape[0], 1))\n",
    "X = np.hstack((ones, X))"
   ]
  },
  {
   "cell_type": "code",
   "execution_count": 27,
   "metadata": {},
   "outputs": [],
   "source": [
    "from sklearn.model_selection import train_test_split\n",
    "from sklearn.metrics import r2_score #Готовая функция для оценки качества"
   ]
  },
  {
   "cell_type": "markdown",
   "metadata": {},
   "source": [
    "Мы будем строить нашу модель лишь на части данных, для того чтобы потом попробовать сделать реальное предсказание на оставшейся доле данных."
   ]
  },
  {
   "cell_type": "code",
   "execution_count": 28,
   "metadata": {},
   "outputs": [],
   "source": [
    "# разбиваем наши данные на обучающую, и проверочную выборку, н\n",
    "x_train, x_test, y_train, y_test = train_test_split(X, Y, test_size=0.33, random_state=1)"
   ]
  },
  {
   "cell_type": "code",
   "execution_count": 29,
   "metadata": {},
   "outputs": [
    {
     "data": {
      "text/plain": [
       "1.5010537020221411e+25"
      ]
     },
     "execution_count": 29,
     "metadata": {},
     "output_type": "execute_result"
    }
   ],
   "source": [
    "XTX = x_train.T.dot(x_train)\n",
    "np.linalg.det(XTX)"
   ]
  },
  {
   "cell_type": "code",
   "execution_count": 30,
   "metadata": {},
   "outputs": [
    {
     "data": {
      "text/plain": [
       "array([-2.57327546e+06,  3.73838285e+05,  9.90555176e-01])"
      ]
     },
     "execution_count": 30,
     "metadata": {},
     "output_type": "execute_result"
    }
   ],
   "source": [
    "XTX_inv = np.linalg.inv(XTX)\n",
    "b = XTX_inv.dot(x_train.T).dot(y_train)\n",
    "b"
   ]
  },
  {
   "cell_type": "code",
   "execution_count": 31,
   "metadata": {},
   "outputs": [],
   "source": [
    "# по полученным коэффициентам предскажем значения для тестовой части выборки\n",
    "y_pred = x_test.dot(b)"
   ]
  },
  {
   "cell_type": "markdown",
   "metadata": {},
   "source": [
    "Оценим качество модели через функцию r2_score, и вручную по формуле Коэффициента детерминации:\n",
    "$$R^2 = 1 - \\dfrac{\\sigma^2_{res}}{\\sigma^2_{y}}$$"
   ]
  },
  {
   "cell_type": "code",
   "execution_count": 32,
   "metadata": {},
   "outputs": [
    {
     "data": {
      "text/plain": [
       "(0.7105715398968431, 0.7106243381069608)"
      ]
     },
     "execution_count": 32,
     "metadata": {},
     "output_type": "execute_result"
    }
   ],
   "source": [
    "r2_score(y_test, y_pred), 1 - ( (y_pred - y_test).var() / y_test.var())"
   ]
  },
  {
   "cell_type": "markdown",
   "metadata": {},
   "source": [
    "Мы видим достаточно высокий показатель метрики качества, а значит рыночная стоимость игрока и его возраст - это определяющие показатели для предсказания суммы фактического трансфера."
   ]
  },
  {
   "cell_type": "markdown",
   "metadata": {},
   "source": [
    "#### 3. Изучим, какие лиги больше всего тратят  покупку игроков, а какие больше всего зарабатывают на их продаже. А так же средние суммы за сделку."
   ]
  },
  {
   "cell_type": "code",
   "execution_count": 33,
   "metadata": {},
   "outputs": [
    {
     "data": {
      "image/png": "[encoded data removed]",
      "text/plain": [
       "<Figure size 1008x216 with 3 Axes>"
      ]
     },
     "metadata": {
      "needs_background": "light"
     },
     "output_type": "display_data"
    }
   ],
   "source": [
    "plt.figure(figsize=(14, 3))\n",
    "\n",
    "plt.subplot(1, 3, 1)\n",
    "plt.title('Траты на игроков')\n",
    "\n",
    "data.groupby('League_to')['Transfer_fee'].sum().sort_values(ascending=False)[:5].plot(kind='bar')\n",
    "\n",
    "plt.subplot(1, 3, 2)\n",
    "plt.title('Средняя цена трансфера')\n",
    "data.groupby('League_to')['Transfer_fee'].mean().sort_values(ascending=False)[:5].plot(kind='bar')\n",
    "\n",
    "\n",
    "plt.subplot(1, 3, 3)\n",
    "plt.title('Количество покупок')\n",
    "data.groupby('League_to')['Transfer_fee'].count().sort_values(ascending=False)[:5].plot(kind='bar')\n",
    "\n",
    "plt.show()"
   ]
  },
  {
   "cell_type": "markdown",
   "metadata": {},
   "source": [
    "Из графиков мы видим, что Премьер лига безусловный фаворит потраченным деньгам, и по количеству игроков. С другой стороны, по дороговизне трансферов с небольшим отрывом лидирует Ла Лига <br>\n",
    "Аналогичным образом выявим, какие лиги лучше всего зарабатывают деньги на продаже футболистов."
   ]
  },
  {
   "cell_type": "code",
   "execution_count": 34,
   "metadata": {},
   "outputs": [
    {
     "data": {
      "image/png": "[encoded data removed]",
      "text/plain": [
       "<Figure size 1008x216 with 3 Axes>"
      ]
     },
     "metadata": {
      "needs_background": "light"
     },
     "output_type": "display_data"
    }
   ],
   "source": [
    "plt.figure(figsize=(14, 3))\n",
    "\n",
    "plt.subplot(1, 3, 1)\n",
    "plt.title('Получено денег за игроков')\n",
    "\n",
    "data.groupby('League_from')['Transfer_fee'].sum().sort_values(ascending=False)[:5].plot(kind='bar')\n",
    "\n",
    "plt.subplot(1, 3, 2)\n",
    "plt.title('Средняя цена трансфера')\n",
    "data.groupby('League_from')['Transfer_fee'].mean().sort_values(ascending=False)[:5].plot(kind='bar')\n",
    "\n",
    "\n",
    "plt.subplot(1, 3, 3)\n",
    "plt.title('Количество продаж')\n",
    "data.groupby('League_from')['Transfer_fee'].count().sort_values(ascending=False)[:5].plot(kind='bar')\n",
    "\n",
    "plt.show()"
   ]
  },
  {
   "cell_type": "markdown",
   "metadata": {},
   "source": [
    "И снова Премьер лига - самый активный игрок на рынке как по общему обороту, так и по количеству сделок. <br>\n",
    "Зато в графике \"Средняя цена трансфера\" мы видим двух новых игроков - <b>Rel. Ligue 1</b> и <b>Liga NOS</b> <br>\n",
    "Можно предположить, что клубы из этой лиги зарабатывают на том, что выращивают футболистов и выгодно их продают. Проверим:"
   ]
  },
  {
   "cell_type": "code",
   "execution_count": 38,
   "metadata": {},
   "outputs": [
    {
     "data": {
      "text/plain": [
       "32000000"
      ]
     },
     "execution_count": 38,
     "metadata": {},
     "output_type": "execute_result"
    }
   ],
   "source": [
    "data.Transfer_fee[data.League_from == 'Rel. Ligue 1'].sum() - data.Transfer_fee[data.League_to == 'Rel. Ligue 1'].sum()"
   ]
  },
  {
   "cell_type": "code",
   "execution_count": 49,
   "metadata": {},
   "outputs": [
    {
     "data": {
      "text/plain": [
       "((2,), (0,))"
      ]
     },
     "execution_count": 49,
     "metadata": {},
     "output_type": "execute_result"
    }
   ],
   "source": [
    "data.Transfer_fee[data.League_from == 'Rel. Ligue 1'].shape, data.Transfer_fee[data.League_to == 'Rel. Ligue 1'].shape"
   ]
  },
  {
   "cell_type": "markdown",
   "metadata": {},
   "source": [
    "Мы видим, что выборка по лиге \"Rel. Ligue 1\" слишком мала, чтобы считать её значимой. Проверим второго кандидата"
   ]
  },
  {
   "cell_type": "code",
   "execution_count": 39,
   "metadata": {},
   "outputs": [
    {
     "data": {
      "text/plain": [
       "1432120000"
      ]
     },
     "execution_count": 39,
     "metadata": {},
     "output_type": "execute_result"
    }
   ],
   "source": [
    "data.Transfer_fee[data.League_from == 'Liga NOS'].sum() - data.Transfer_fee[data.League_to == 'Liga NOS'].sum()"
   ]
  },
  {
   "cell_type": "code",
   "execution_count": 47,
   "metadata": {},
   "outputs": [
    {
     "data": {
      "text/plain": [
       "((178,), (127,))"
      ]
     },
     "execution_count": 47,
     "metadata": {},
     "output_type": "execute_result"
    }
   ],
   "source": [
    "data.Transfer_fee[data.League_from == 'Liga NOS'].shape, data.Transfer_fee[data.League_to == 'Liga NOS'].shape"
   ]
  },
  {
   "cell_type": "markdown",
   "metadata": {},
   "source": [
    "По данной лиге всё в порядке. Действительно, игроки уходят из лиги чаще чем приходят в неё, а трансферная прибыль впечатляет. <br> Напоследок посмотрим самые дорогие продажи из данной лиги, чтобы знать героев в лицо"
   ]
  },
  {
   "cell_type": "code",
   "execution_count": 56,
   "metadata": {},
   "outputs": [
    {
     "data": {
      "text/html": [
       "<div>\n",
       "<style scoped>\n",
       "    .dataframe tbody tr th:only-of-type {\n",
       "        vertical-align: middle;\n",
       "    }\n",
       "\n",
       "    .dataframe tbody tr th {\n",
       "        vertical-align: top;\n",
       "    }\n",
       "\n",
       "    .dataframe thead th {\n",
       "        text-align: right;\n",
       "    }\n",
       "</style>\n",
       "<table border=\"1\" class=\"dataframe\">\n",
       "  <thead>\n",
       "    <tr style=\"text-align: right;\">\n",
       "      <th></th>\n",
       "      <th>Name</th>\n",
       "      <th>Position</th>\n",
       "      <th>Age</th>\n",
       "      <th>Team_from</th>\n",
       "      <th>League_from</th>\n",
       "      <th>Team_to</th>\n",
       "      <th>League_to</th>\n",
       "      <th>Season</th>\n",
       "      <th>Market_value</th>\n",
       "      <th>Transfer_fee</th>\n",
       "    </tr>\n",
       "  </thead>\n",
       "  <tbody>\n",
       "    <tr>\n",
       "      <th>3221</th>\n",
       "      <td>James Rodríguez</td>\n",
       "      <td>Attacking Midfield</td>\n",
       "      <td>21</td>\n",
       "      <td>FC Porto</td>\n",
       "      <td>Liga NOS</td>\n",
       "      <td>Monaco</td>\n",
       "      <td>Ligue 1</td>\n",
       "      <td>14</td>\n",
       "      <td>23000000.0</td>\n",
       "      <td>45000000</td>\n",
       "    </tr>\n",
       "    <tr>\n",
       "      <th>2722</th>\n",
       "      <td>Falcao</td>\n",
       "      <td>Centre-Forward</td>\n",
       "      <td>25</td>\n",
       "      <td>FC Porto</td>\n",
       "      <td>Liga NOS</td>\n",
       "      <td>Atlético Madrid</td>\n",
       "      <td>LaLiga</td>\n",
       "      <td>12</td>\n",
       "      <td>25000000.0</td>\n",
       "      <td>40000000</td>\n",
       "    </tr>\n",
       "    <tr>\n",
       "      <th>2970</th>\n",
       "      <td>Hulk</td>\n",
       "      <td>Right Winger</td>\n",
       "      <td>26</td>\n",
       "      <td>FC Porto</td>\n",
       "      <td>Liga NOS</td>\n",
       "      <td>Zenit S-Pb</td>\n",
       "      <td>Premier Liga</td>\n",
       "      <td>13</td>\n",
       "      <td>37000000.0</td>\n",
       "      <td>40000000</td>\n",
       "    </tr>\n",
       "    <tr>\n",
       "      <th>2973</th>\n",
       "      <td>Axel Witsel</td>\n",
       "      <td>Central Midfield</td>\n",
       "      <td>23</td>\n",
       "      <td>Benfica</td>\n",
       "      <td>Liga NOS</td>\n",
       "      <td>Zenit S-Pb</td>\n",
       "      <td>Premier Liga</td>\n",
       "      <td>13</td>\n",
       "      <td>20000000.0</td>\n",
       "      <td>40000000</td>\n",
       "    </tr>\n",
       "    <tr>\n",
       "      <th>4231</th>\n",
       "      <td>Ederson</td>\n",
       "      <td>Goalkeeper</td>\n",
       "      <td>23</td>\n",
       "      <td>Benfica</td>\n",
       "      <td>Liga NOS</td>\n",
       "      <td>Man City</td>\n",
       "      <td>Premier League</td>\n",
       "      <td>18</td>\n",
       "      <td>22000000.0</td>\n",
       "      <td>40000000</td>\n",
       "    </tr>\n",
       "  </tbody>\n",
       "</table>\n",
       "</div>"
      ],
      "text/plain": [
       "                 Name            Position  Age Team_from League_from  \\\n",
       "3221  James Rodríguez  Attacking Midfield   21  FC Porto    Liga NOS   \n",
       "2722           Falcao      Centre-Forward   25  FC Porto    Liga NOS   \n",
       "2970             Hulk        Right Winger   26  FC Porto    Liga NOS   \n",
       "2973      Axel Witsel    Central Midfield   23   Benfica    Liga NOS   \n",
       "4231          Ederson          Goalkeeper   23   Benfica    Liga NOS   \n",
       "\n",
       "              Team_to       League_to  Season  Market_value  Transfer_fee  \n",
       "3221           Monaco         Ligue 1      14    23000000.0      45000000  \n",
       "2722  Atlético Madrid          LaLiga      12    25000000.0      40000000  \n",
       "2970       Zenit S-Pb    Premier Liga      13    37000000.0      40000000  \n",
       "2973       Zenit S-Pb    Premier Liga      13    20000000.0      40000000  \n",
       "4231         Man City  Premier League      18    22000000.0      40000000  "
      ]
     },
     "execution_count": 56,
     "metadata": {},
     "output_type": "execute_result"
    }
   ],
   "source": [
    "data[data.League_from == 'Liga NOS'].sort_values(['Transfer_fee'], ascending=False)[:5]"
   ]
  },
  {
   "cell_type": "code",
   "execution_count": null,
   "metadata": {},
   "outputs": [],
   "source": []
  }
 ],
 "metadata": {
  "kernelspec": {
   "display_name": "Python 3",
   "language": "python",
   "name": "python3"
  },
  "language_info": {
   "codemirror_mode": {
    "name": "ipython",
    "version": 3
   },
   "file_extension": ".py",
   "mimetype": "text/x-python",
   "name": "python",
   "nbconvert_exporter": "python",
   "pygments_lexer": "ipython3",
   "version": "3.7.3"
  }
 },
 "nbformat": 4,
 "nbformat_minor": 2
}
