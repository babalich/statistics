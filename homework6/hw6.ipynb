{
 "cells": [
  {
   "cell_type": "code",
   "execution_count": 78,
   "metadata": {},
   "outputs": [],
   "source": [
    "import numpy as np\n",
    "from scipy import stats"
   ]
  },
  {
   "cell_type": "markdown",
   "metadata": {},
   "source": [
    "#### 1. Даны значения величины заработной платы заемщиков банка (salary) и значения их поведенческого кредитного скоринга (scoring)  Используя только встроенные питоновские функции и структуры данных (т.е. без библиотек numpy, pandas и др.) найдите:"
   ]
  },
  {
   "cell_type": "code",
   "execution_count": 1,
   "metadata": {},
   "outputs": [],
   "source": [
    "salary = [35, 45, 190, 200, 40, 70, 54, 150, 120, 110]\n",
    "scoring = [401, 574, 874, 919, 459, 739, 653, 902, 746, 832]"
   ]
  },
  {
   "cell_type": "markdown",
   "metadata": {},
   "source": [
    "##### 1.1  ковариацию (смещённую и несмещённую) этих двух величин,"
   ]
  },
  {
   "cell_type": "markdown",
   "metadata": {},
   "source": [
    "для расчета смещенной ковариации воспользуемся форулой:\n",
    "$$\\operatorname{cov}(X, Y) = M\\left( (X - M(X)) (Y - M(Y)) \\right).$$"
   ]
  },
  {
   "cell_type": "code",
   "execution_count": 9,
   "metadata": {},
   "outputs": [
    {
     "data": {
      "text/plain": [
       "(101.4, 709.9)"
      ]
     },
     "execution_count": 9,
     "metadata": {},
     "output_type": "execute_result"
    }
   ],
   "source": [
    "# рассчитаем среднее по массивам\n",
    "m_salary = sum(salary) / len(salary)\n",
    "m_scoring = sum(scoring) / len(scoring)\n",
    "m_salary, m_scoring"
   ]
  },
  {
   "cell_type": "code",
   "execution_count": 28,
   "metadata": {},
   "outputs": [],
   "source": [
    "# создадим промежуточный массив k - произведение (𝑋−𝑀(𝑋))(𝑌−𝑀(𝑌))\n",
    "k = []\n",
    "salary_mean = [x - m_salary for x in salary \n",
    "scoring_mean = [y - m_scoring for y in scoring]\n",
    "for i in range(len(salary)):\n",
    "    k.append(salary_mean[i] * scoring_mean[i])"
   ]
  },
  {
   "cell_type": "code",
   "execution_count": 29,
   "metadata": {},
   "outputs": [],
   "source": [
    "# и саму ковариацию \n",
    "cov = sum(k) / len(k)\n",
    "cov_ = sum(k) / (len(k) - 1)"
   ]
  },
  {
   "cell_type": "code",
   "execution_count": 30,
   "metadata": {},
   "outputs": [
    {
     "name": "stdout",
     "output_type": "stream",
     "text": [
      "Смещенная = 9157.84: Несмещенная = 10175.377777777778\n"
     ]
    }
   ],
   "source": [
    "print(f'Смещенная = {cov}: Несмещенная = {cov_}')"
   ]
  },
  {
   "cell_type": "code",
   "execution_count": 40,
   "metadata": {},
   "outputs": [
    {
     "data": {
      "text/plain": [
       "(9157.840000000002, 10175.377777777778)"
      ]
     },
     "execution_count": 40,
     "metadata": {},
     "output_type": "execute_result"
    }
   ],
   "source": [
    "# сверим с Numpy\n",
    "np.cov(salary, scoring, ddof=0)[0,1], np.cov(salary, scoring)[0,1]"
   ]
  },
  {
   "cell_type": "markdown",
   "metadata": {},
   "source": [
    "#####  1.2 коэффициент корреляции Пирсона"
   ]
  },
  {
   "cell_type": "markdown",
   "metadata": {},
   "source": [
    "коэффициент корреляции Пирсона__:\n",
    "$$r_{XY} = \\dfrac{\\operatorname{cov}(X, Y)}{\\sigma_X \\cdot \\sigma_Y}.$$"
   ]
  },
  {
   "cell_type": "code",
   "execution_count": 56,
   "metadata": {},
   "outputs": [
    {
     "data": {
      "text/plain": [
       "(59.115480206118605, 174.55340157098058)"
      ]
     },
     "execution_count": 56,
     "metadata": {},
     "output_type": "execute_result"
    }
   ],
   "source": [
    "# расчитываем среднее квадратичное отклонение (наверное, стоило бы сделать функцию для красоты)\n",
    "std_salary = (sum([i**2 for i in salary_mean])/len(salary_mean)) ** (1/2)\n",
    "std_scoring = (sum([i**2 for i in scoring_mean])/len(scoring_mean)) ** (1/2)\n",
    "std_salary, std_scoring"
   ]
  },
  {
   "cell_type": "code",
   "execution_count": 64,
   "metadata": {},
   "outputs": [
    {
     "name": "stdout",
     "output_type": "stream",
     "text": [
      "0.8874900920739162 коэффициент Пирсона\n"
     ]
    }
   ],
   "source": [
    "pirson = cov / (std_salary * std_scoring)\n",
    "print(f'{pirson} коэффициент Пирсона')"
   ]
  },
  {
   "cell_type": "code",
   "execution_count": 63,
   "metadata": {},
   "outputs": [
    {
     "data": {
      "text/plain": [
       "0.8874900920739163"
      ]
     },
     "execution_count": 63,
     "metadata": {},
     "output_type": "execute_result"
    }
   ],
   "source": [
    "# сверим с Numpy\n",
    "np.corrcoef(salary, scoring)[0,1] "
   ]
  },
  {
   "cell_type": "markdown",
   "metadata": {},
   "source": [
    "##### 1.3. коэффициент корреляции Кендалла"
   ]
  },
  {
   "cell_type": "code",
   "execution_count": 107,
   "metadata": {},
   "outputs": [],
   "source": [
    "P = 0\n",
    "Q = 0\n",
    "for i in range(len(scoring)):\n",
    "    for j in range(i+1, len(scoring)):\n",
    "        if (scoring[i] - scoring[j]) * (salary[i] - salary[j]) > 0:\n",
    "            P +=1\n",
    "        else:\n",
    "            Q +=1            "
   ]
  },
  {
   "cell_type": "code",
   "execution_count": 108,
   "metadata": {},
   "outputs": [
    {
     "data": {
      "text/plain": [
       "0.9111111111111111"
      ]
     },
     "execution_count": 108,
     "metadata": {},
     "output_type": "execute_result"
    }
   ],
   "source": [
    "tau = (P - Q) / (P + Q)\n",
    "tau"
   ]
  },
  {
   "cell_type": "code",
   "execution_count": 109,
   "metadata": {},
   "outputs": [],
   "source": [
    "import pandas as pd"
   ]
  },
  {
   "cell_type": "code",
   "execution_count": 111,
   "metadata": {},
   "outputs": [],
   "source": [
    "df = pd.DataFrame({'salary': salary,\n",
    "                    'scorring': scoring})"
   ]
  },
  {
   "cell_type": "code",
   "execution_count": 113,
   "metadata": {},
   "outputs": [
    {
     "data": {
      "text/html": [
       "<div>\n",
       "<style scoped>\n",
       "    .dataframe tbody tr th:only-of-type {\n",
       "        vertical-align: middle;\n",
       "    }\n",
       "\n",
       "    .dataframe tbody tr th {\n",
       "        vertical-align: top;\n",
       "    }\n",
       "\n",
       "    .dataframe thead th {\n",
       "        text-align: right;\n",
       "    }\n",
       "</style>\n",
       "<table border=\"1\" class=\"dataframe\">\n",
       "  <thead>\n",
       "    <tr style=\"text-align: right;\">\n",
       "      <th></th>\n",
       "      <th>salary</th>\n",
       "      <th>scorring</th>\n",
       "    </tr>\n",
       "  </thead>\n",
       "  <tbody>\n",
       "    <tr>\n",
       "      <th>salary</th>\n",
       "      <td>1.000000</td>\n",
       "      <td>0.911111</td>\n",
       "    </tr>\n",
       "    <tr>\n",
       "      <th>scorring</th>\n",
       "      <td>0.911111</td>\n",
       "      <td>1.000000</td>\n",
       "    </tr>\n",
       "  </tbody>\n",
       "</table>\n",
       "</div>"
      ],
      "text/plain": [
       "            salary  scorring\n",
       "salary    1.000000  0.911111\n",
       "scorring  0.911111  1.000000"
      ]
     },
     "execution_count": 113,
     "metadata": {},
     "output_type": "execute_result"
    }
   ],
   "source": [
    "df.corr(method='kendall')"
   ]
  },
  {
   "cell_type": "markdown",
   "metadata": {},
   "source": [
    "#### 2. Измерены значения IQ выборки студентов, обучающихся в местных технических вузах: 131, 125, 115, 122, 131, 115, 107, 99, 125, 111 Известно, что в генеральной совокупности IQ распределен нормально. Найдите доверительный интервал для математического ожидания с надежностью 0.95."
   ]
  },
  {
   "cell_type": "markdown",
   "metadata": {},
   "source": [
    "Дисперсия неизвестна, поэтому будем использовать следующую формулу\n",
    "$$\n",
    "P \\left( \n",
    "    \\overline{X} - t_{1 - \\alpha/2, \\: n - 1} \\cdot \\dfrac{\\sigma_X}{\\sqrt{n}} \n",
    "    \\leq a \\leq\n",
    "    \\overline{X} + t_{1 - \\alpha/2, \\: n - 1} \\cdot \\dfrac{\\sigma_X}{\\sqrt{n}} \n",
    "\\right) = p.\n",
    "$$"
   ]
  },
  {
   "cell_type": "code",
   "execution_count": 70,
   "metadata": {},
   "outputs": [],
   "source": [
    "data = np.array([131, 125, 115, 122, 131, 115, 107, 99, 125, 111])"
   ]
  },
  {
   "cell_type": "code",
   "execution_count": 85,
   "metadata": {},
   "outputs": [
    {
     "data": {
      "text/plain": [
       "(118.1, 10.54566788359614)"
      ]
     },
     "execution_count": 85,
     "metadata": {},
     "output_type": "execute_result"
    }
   ],
   "source": [
    "alpha = 0.05\n",
    "n = len(data)\n",
    "std = data.std(ddof=1)\n",
    "mean = data.mean()\n",
    "mean, std"
   ]
  },
  {
   "cell_type": "code",
   "execution_count": 81,
   "metadata": {},
   "outputs": [],
   "source": [
    "# квантиль стьюдента\n",
    "t = stats.t.ppf(1 - alpha / 2,  df=n-1)"
   ]
  },
  {
   "cell_type": "code",
   "execution_count": 83,
   "metadata": {},
   "outputs": [
    {
     "data": {
      "text/plain": [
       "(110.55608365158724, 125.64391634841274)"
      ]
     },
     "execution_count": 83,
     "metadata": {},
     "output_type": "execute_result"
    }
   ],
   "source": [
    "(mean - t * std / np.sqrt(n)), (mean + t * std / np.sqrt(n))"
   ]
  },
  {
   "cell_type": "markdown",
   "metadata": {},
   "source": [
    "#### 3. Известно, что рост футболистов в сборной распределён нормально с известной дисперсией 25. На выборке объёма 27 выборочное среднее составило 174.2. Найдите доверительный интервал для математического ожидания с надёжностью 0.95."
   ]
  },
  {
   "cell_type": "markdown",
   "metadata": {},
   "source": [
    "Нам известна дисперсия,  поэтому считаем интервал по формуле \n",
    "$$\n",
    "P \\left(\n",
    "    \\overline{X} - t_{1 - \\alpha / 2} \\cdot \\dfrac{\\sigma}{\\sqrt{n}}\n",
    "    \\leq a \\leq \n",
    "    \\overline{X} + t_{1 - \\alpha / 2} \\cdot \\dfrac{\\sigma}{\\sqrt{n}}\n",
    "\\right) = p.\n",
    "$$"
   ]
  },
  {
   "cell_type": "code",
   "execution_count": 126,
   "metadata": {},
   "outputs": [],
   "source": [
    "var = 25\n",
    "n = 27\n",
    "mean = 174.2\n",
    "alpha = 0.05\n",
    "sgm = np.sqrt(var)"
   ]
  },
  {
   "cell_type": "code",
   "execution_count": 127,
   "metadata": {},
   "outputs": [
    {
     "data": {
      "text/plain": [
       "1.959963984540054"
      ]
     },
     "execution_count": 127,
     "metadata": {},
     "output_type": "execute_result"
    }
   ],
   "source": [
    "t = stats.norm.ppf(1 - alpha/2)\n",
    "t"
   ]
  },
  {
   "cell_type": "code",
   "execution_count": 128,
   "metadata": {},
   "outputs": [
    {
     "data": {
      "text/plain": [
       "(172.3140237765397, 176.08597622346028)"
      ]
     },
     "execution_count": 128,
     "metadata": {},
     "output_type": "execute_result"
    }
   ],
   "source": [
    "mean - t * sgm / np.sqrt(n), mean + t * sgm / np.sqrt(n)"
   ]
  },
  {
   "cell_type": "code",
   "execution_count": null,
   "metadata": {},
   "outputs": [],
   "source": []
  }
 ],
 "metadata": {
  "kernelspec": {
   "display_name": "Python 3",
   "language": "python",
   "name": "python3"
  },
  "language_info": {
   "codemirror_mode": {
    "name": "ipython",
    "version": 3
   },
   "file_extension": ".py",
   "mimetype": "text/x-python",
   "name": "python",
   "nbconvert_exporter": "python",
   "pygments_lexer": "ipython3",
   "version": "3.7.3"
  }
 },
 "nbformat": 4,
 "nbformat_minor": 2
}
