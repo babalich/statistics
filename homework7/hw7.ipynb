{
 "cells": [
  {
   "cell_type": "code",
   "execution_count": 73,
   "metadata": {},
   "outputs": [],
   "source": [
    "import numpy as np\n",
    "from matplotlib import pyplot as plt\n",
    "from scipy import stats\n",
    "import pandas as pd"
   ]
  },
  {
   "cell_type": "markdown",
   "metadata": {},
   "source": [
    "#### Задача 1\n",
    "Даны значения величины заработной платы заемщиков банка (salary) и значения их поведенческого кредитного скоринга (scoring):\n",
    "\n",
    "salary = [35, 45, 190, 200, 40, 70, 54, 150, 120, 110]\n",
    "\n",
    "scoring = [401, 574, 874, 919, 459, 739, 653, 902, 746, 832]\n",
    "\n",
    "Возьмём в качестве признака значение salary, а в качестве целевой переменной - scoring"
   ]
  },
  {
   "cell_type": "code",
   "execution_count": 2,
   "metadata": {},
   "outputs": [],
   "source": [
    "salary = np.array([35, 45, 190, 200, 40, 70, 54, 150, 120, 110])\n",
    "scoring = np.array([401, 574, 874, 919, 459, 739, 653, 902, 746, 832])"
   ]
  },
  {
   "cell_type": "markdown",
   "metadata": {},
   "source": [
    "1.1. Найдите коэффициенты линейной регрессии с помощью формул для парной регрессии, а затем с помощью метода наименьших квадратов."
   ]
  },
  {
   "cell_type": "markdown",
   "metadata": {},
   "source": [
    "парная регрессия $$b_1 = \\frac{\\sigma_{XY}}{\\sigma^2_X}, \\:\\:\n",
    "b_0 = \\overline{Y} - b_1 \\cdot {\\overline{X}}$$\n",
    "Здесь $X$, $Y$ — выборки, $\\overline{X}$, $\\overline{Y}$ — выборочное среднее, $\\sigma^2_X$ — выборочная дисперсия, $\\sigma_{XY}$ — выборочная ковариация.\n"
   ]
  },
  {
   "cell_type": "code",
   "execution_count": 3,
   "metadata": {},
   "outputs": [
    {
     "data": {
      "text/plain": [
       "2.620538882402765"
      ]
     },
     "execution_count": 3,
     "metadata": {},
     "output_type": "execute_result"
    }
   ],
   "source": [
    "b1 = np.cov(salary, scoring, ddof=1)[0,1] / np.var(salary, ddof=1)\n",
    "b1"
   ]
  },
  {
   "cell_type": "code",
   "execution_count": 4,
   "metadata": {},
   "outputs": [
    {
     "data": {
      "text/plain": [
       "444.1773573243596"
      ]
     },
     "execution_count": 4,
     "metadata": {},
     "output_type": "execute_result"
    }
   ],
   "source": [
    "b0 = np.mean(scoring) - b1 * np.mean(salary)\n",
    "b0"
   ]
  },
  {
   "cell_type": "markdown",
   "metadata": {},
   "source": [
    "$$𝑦=444.177+2.62∗𝑥$$"
   ]
  },
  {
   "cell_type": "code",
   "execution_count": 5,
   "metadata": {},
   "outputs": [
    {
     "data": {
      "text/plain": [
       "array([[  1.,  35.],\n",
       "       [  1.,  45.],\n",
       "       [  1., 190.],\n",
       "       [  1., 200.],\n",
       "       [  1.,  40.],\n",
       "       [  1.,  70.],\n",
       "       [  1.,  54.],\n",
       "       [  1., 150.],\n",
       "       [  1., 120.],\n",
       "       [  1., 110.]])"
      ]
     },
     "execution_count": 5,
     "metadata": {},
     "output_type": "execute_result"
    }
   ],
   "source": [
    "salary_1 = np.column_stack((np.ones((salary.shape[0], 1)), salary))\n",
    "salary_1"
   ]
  },
  {
   "cell_type": "code",
   "execution_count": 6,
   "metadata": {},
   "outputs": [
    {
     "data": {
      "text/plain": [
       "349464.00000000023"
      ]
     },
     "execution_count": 6,
     "metadata": {},
     "output_type": "execute_result"
    }
   ],
   "source": [
    "XTX = salary_1.T.dot(salary_1)\n",
    "#XTX\n",
    "np.linalg.det(XTX)"
   ]
  },
  {
   "cell_type": "code",
   "execution_count": 7,
   "metadata": {},
   "outputs": [],
   "source": [
    "XTX_inv = np.linalg.inv(XTX)\n",
    "b = XTX_inv.dot(salary_1.T).dot(scoring)"
   ]
  },
  {
   "cell_type": "code",
   "execution_count": 8,
   "metadata": {},
   "outputs": [
    {
     "data": {
      "text/plain": [
       "array([444.17735732,   2.62053888])"
      ]
     },
     "execution_count": 8,
     "metadata": {},
     "output_type": "execute_result"
    }
   ],
   "source": [
    "b"
   ]
  },
  {
   "cell_type": "markdown",
   "metadata": {},
   "source": [
    "$$𝑦=444.177+2.62∗𝑥$$"
   ]
  },
  {
   "cell_type": "markdown",
   "metadata": {},
   "source": [
    "2. Постройте scatter plot по данным и отметьте на нём прямую линейной регрессии, полученную в п. 1."
   ]
  },
  {
   "cell_type": "code",
   "execution_count": 9,
   "metadata": {},
   "outputs": [
    {
     "data": {
      "image/png": "[encoded data removed]",
      "text/plain": [
       "<Figure size 432x288 with 1 Axes>"
      ]
     },
     "metadata": {
      "needs_background": "light"
     },
     "output_type": "display_data"
    }
   ],
   "source": [
    "ox = salary\n",
    "oy = b[0] + b[1] * ox\n",
    "plt.scatter(salary, scoring)\n",
    "plt.plot(ox, oy, color='red', alpha=0.5)\n",
    "plt.xlabel('salary')\n",
    "plt.ylabel('scoring')\n",
    "plt.grid()"
   ]
  },
  {
   "cell_type": "markdown",
   "metadata": {},
   "source": [
    "3. Почитайте коэффициент детерминации, среднюю ошибку аппроксимации."
   ]
  },
  {
   "cell_type": "markdown",
   "metadata": {},
   "source": [
    "В нашем решении мы уже делали предсказание при построении графика, поэтому в формуле используем его считаем по формуле \n",
    "$$R^2 = 1 - \\dfrac{\\sigma^2_{res}}{\\sigma^2_{y}}$$\n"
   ]
  },
  {
   "cell_type": "code",
   "execution_count": 20,
   "metadata": {},
   "outputs": [
    {
     "data": {
      "text/plain": [
       "0.7876386635293685"
      ]
     },
     "execution_count": 20,
     "metadata": {},
     "output_type": "execute_result"
    }
   ],
   "source": [
    "R1 = 1 - (oy - scoring).var() / scoring.var()\n",
    "R1"
   ]
  },
  {
   "cell_type": "code",
   "execution_count": 22,
   "metadata": {},
   "outputs": [
    {
     "data": {
      "text/plain": [
       "0.7876386635293682"
      ]
     },
     "execution_count": 22,
     "metadata": {},
     "output_type": "execute_result"
    }
   ],
   "source": [
    "(np.corrcoef(salary, scoring) ** 2)[0,1]"
   ]
  },
  {
   "cell_type": "code",
   "execution_count": 27,
   "metadata": {},
   "outputs": [
    {
     "data": {
      "text/plain": [
       "0.7876386635293685"
      ]
     },
     "execution_count": 27,
     "metadata": {},
     "output_type": "execute_result"
    }
   ],
   "source": [
    "# аналогично делаем предсказание по методу наименьших квадратов\n",
    "z2 = salary_1.dot(b)\n",
    "R1 = 1 - (z2 - scoring).var() / scoring.var()\n",
    "R1"
   ]
  },
  {
   "cell_type": "markdown",
   "metadata": {},
   "source": [
    "4. Оцените построенное уравнение регрессии с помощью F-критерия Фишера\n",
    "$$F = \\dfrac{R^2 / k}{(1 - R^2) / (n - k - 1)},$$"
   ]
  },
  {
   "cell_type": "code",
   "execution_count": 36,
   "metadata": {},
   "outputs": [],
   "source": [
    "n = salary.shape[0]\n",
    "k1 = 1\n",
    "k2 = n - k - 1"
   ]
  },
  {
   "cell_type": "code",
   "execution_count": 37,
   "metadata": {},
   "outputs": [
    {
     "data": {
      "text/plain": [
       "29.67164085966449"
      ]
     },
     "execution_count": 37,
     "metadata": {},
     "output_type": "execute_result"
    }
   ],
   "source": [
    "F1 = (R1 / k1) / ((1 - R1) / (k2))\n",
    "F1"
   ]
  },
  {
   "cell_type": "code",
   "execution_count": 43,
   "metadata": {},
   "outputs": [
    {
     "data": {
      "text/plain": [
       "5.317655071578714"
      ]
     },
     "execution_count": 43,
     "metadata": {},
     "output_type": "execute_result"
    }
   ],
   "source": [
    "# в качестве уровня значимости будем использовать 0.05, поскольку условием не \n",
    "# задано обратное, а параметр требуется\n",
    "alpha = 0.05\n",
    "F2 = stats.f.ppf(1 - alpha, k1, k2)\n",
    "F2"
   ]
  },
  {
   "cell_type": "code",
   "execution_count": 46,
   "metadata": {},
   "outputs": [
    {
     "name": "stdout",
     "output_type": "stream",
     "text": [
      "F1 > F2 True, следовательно уравнение регресси статистически значимо\n"
     ]
    }
   ],
   "source": [
    "print(f'F1 > F2 {F1 > F2}, следовательно уравнение регресси статистически значимо')"
   ]
  },
  {
   "cell_type": "markdown",
   "metadata": {},
   "source": [
    "5. Постройте для коэффициентов регрессии доверительные интервалы с помощью t-статистики Стьюдента.\n",
    "В нашем случае мы имеет парную регрессию. Для начала пользуемся формулой __стандартной ошибки коэффициента наклона__. Она вычисляется по формуле:\n",
    "$$S_{slope} = \\sqrt{\\dfrac{\\frac{1}{n - 2} \\displaystyle\\sum_{i=1}^{n}(y_i - z_i)^2}{\\displaystyle\\sum_{i=1}^n (x_i - \\overline{x})^2}},$$"
   ]
  },
  {
   "cell_type": "code",
   "execution_count": 68,
   "metadata": {},
   "outputs": [
    {
     "data": {
      "text/plain": [
       "1.5213173774865307"
      ]
     },
     "execution_count": 68,
     "metadata": {},
     "output_type": "execute_result"
    }
   ],
   "source": [
    "top = ((scoring - oy)**2).sum() / (n - 2)\n",
    "bottom = ((salary - salary.mean())**2).mean()\n",
    "s_slope = np.sqrt(top / bottom)\n",
    "s_slope"
   ]
  },
  {
   "cell_type": "code",
   "execution_count": 69,
   "metadata": {},
   "outputs": [
    {
     "data": {
      "text/plain": [
       "2.3060041350333704"
      ]
     },
     "execution_count": 69,
     "metadata": {},
     "output_type": "execute_result"
    }
   ],
   "source": [
    "t = stats.t.ppf(1 - alpha / 2, df = n - 2)\n",
    "t"
   ]
  },
  {
   "cell_type": "code",
   "execution_count": 70,
   "metadata": {},
   "outputs": [
    {
     "data": {
      "text/plain": [
       "(-0.8876252807792944, 6.128703045584832)"
      ]
     },
     "execution_count": 70,
     "metadata": {},
     "output_type": "execute_result"
    }
   ],
   "source": [
    "# интервал для b1\n",
    "(b[1] - t * s_slope, b[1] + t * s_slope)"
   ]
  },
  {
   "cell_type": "code",
   "execution_count": 71,
   "metadata": {},
   "outputs": [
    {
     "data": {
      "text/plain": [
       "178.56274375247276"
      ]
     },
     "execution_count": 71,
     "metadata": {},
     "output_type": "execute_result"
    }
   ],
   "source": [
    "s_intercept = s_slope * np.sqrt((salary**2).mean())\n",
    "s_intercept"
   ]
  },
  {
   "cell_type": "code",
   "execution_count": 72,
   "metadata": {},
   "outputs": [
    {
     "data": {
      "text/plain": [
       "(32.41093186825282, 855.9437827804654)"
      ]
     },
     "execution_count": 72,
     "metadata": {},
     "output_type": "execute_result"
    }
   ],
   "source": [
    "# интервал для b0\n",
    "(b[0] - t * s_intercept, b[0] + t * s_intercept)"
   ]
  },
  {
   "cell_type": "markdown",
   "metadata": {},
   "source": [
    "#### 2. Допустим, первые 5 клиентов из предыдущего задания проживают в Москве, а остальные - в Санкт-Петербурге. Влияет ли этот фактор на значение их кредитного скоринга?"
   ]
  },
  {
   "cell_type": "code",
   "execution_count": 246,
   "metadata": {},
   "outputs": [],
   "source": [
    "# создадим новый категориальный признак city\n",
    "city = ['Spb'] * 5 + ['Msc'] * 5\n",
    "salary_new = np.array([35, 45, 190, 200, 40, 70, 54, 150, 120, 110])\n",
    "scoring_new = np.array([401, 574, 874, 919, 459, 739, 653, 902, 746, 832])"
   ]
  },
  {
   "cell_type": "code",
   "execution_count": 258,
   "metadata": {},
   "outputs": [
    {
     "data": {
      "text/html": [
       "<div>\n",
       "<style scoped>\n",
       "    .dataframe tbody tr th:only-of-type {\n",
       "        vertical-align: middle;\n",
       "    }\n",
       "\n",
       "    .dataframe tbody tr th {\n",
       "        vertical-align: top;\n",
       "    }\n",
       "\n",
       "    .dataframe thead th {\n",
       "        text-align: right;\n",
       "    }\n",
       "</style>\n",
       "<table border=\"1\" class=\"dataframe\">\n",
       "  <thead>\n",
       "    <tr style=\"text-align: right;\">\n",
       "      <th></th>\n",
       "      <th>city</th>\n",
       "      <th>salary</th>\n",
       "      <th>scoring</th>\n",
       "    </tr>\n",
       "  </thead>\n",
       "  <tbody>\n",
       "    <tr>\n",
       "      <th>0</th>\n",
       "      <td>Spb</td>\n",
       "      <td>35</td>\n",
       "      <td>401</td>\n",
       "    </tr>\n",
       "    <tr>\n",
       "      <th>1</th>\n",
       "      <td>Spb</td>\n",
       "      <td>45</td>\n",
       "      <td>574</td>\n",
       "    </tr>\n",
       "    <tr>\n",
       "      <th>2</th>\n",
       "      <td>Spb</td>\n",
       "      <td>190</td>\n",
       "      <td>874</td>\n",
       "    </tr>\n",
       "    <tr>\n",
       "      <th>3</th>\n",
       "      <td>Spb</td>\n",
       "      <td>200</td>\n",
       "      <td>919</td>\n",
       "    </tr>\n",
       "    <tr>\n",
       "      <th>4</th>\n",
       "      <td>Spb</td>\n",
       "      <td>40</td>\n",
       "      <td>459</td>\n",
       "    </tr>\n",
       "    <tr>\n",
       "      <th>5</th>\n",
       "      <td>Msc</td>\n",
       "      <td>70</td>\n",
       "      <td>739</td>\n",
       "    </tr>\n",
       "    <tr>\n",
       "      <th>6</th>\n",
       "      <td>Msc</td>\n",
       "      <td>54</td>\n",
       "      <td>653</td>\n",
       "    </tr>\n",
       "    <tr>\n",
       "      <th>7</th>\n",
       "      <td>Msc</td>\n",
       "      <td>150</td>\n",
       "      <td>902</td>\n",
       "    </tr>\n",
       "    <tr>\n",
       "      <th>8</th>\n",
       "      <td>Msc</td>\n",
       "      <td>120</td>\n",
       "      <td>746</td>\n",
       "    </tr>\n",
       "    <tr>\n",
       "      <th>9</th>\n",
       "      <td>Msc</td>\n",
       "      <td>110</td>\n",
       "      <td>832</td>\n",
       "    </tr>\n",
       "  </tbody>\n",
       "</table>\n",
       "</div>"
      ],
      "text/plain": [
       "  city  salary  scoring\n",
       "0  Spb      35      401\n",
       "1  Spb      45      574\n",
       "2  Spb     190      874\n",
       "3  Spb     200      919\n",
       "4  Spb      40      459\n",
       "5  Msc      70      739\n",
       "6  Msc      54      653\n",
       "7  Msc     150      902\n",
       "8  Msc     120      746\n",
       "9  Msc     110      832"
      ]
     },
     "execution_count": 258,
     "metadata": {},
     "output_type": "execute_result"
    }
   ],
   "source": [
    "df = pd.DataFrame({'city': city, 'salary': salary_new, 'scoring': scoring_new})\n",
    "df"
   ]
  },
  {
   "cell_type": "code",
   "execution_count": 267,
   "metadata": {},
   "outputs": [
    {
     "data": {
      "text/plain": [
       "(101.4, 709.9)"
      ]
     },
     "execution_count": 267,
     "metadata": {},
     "output_type": "execute_result"
    }
   ],
   "source": [
    "# для начала посмотрим средную ЗП и скоринг по выборке\n",
    "df.salary.mean(), df.scoring.mean()"
   ]
  },
  {
   "cell_type": "code",
   "execution_count": 266,
   "metadata": {},
   "outputs": [
    {
     "name": "stdout",
     "output_type": "stream",
     "text": [
      "102.0 100.8\n",
      "645.4 774.4\n"
     ]
    }
   ],
   "source": [
    "# посмотрим средную ЗП и средний скоринг по регионам\n",
    "# cредняя зарплата чуть выше в Спб, но Московский скоринг лучше\n",
    "print(df[df['city']=='Spb'].salary.mean(), df[df['city']=='Msc'].salary.mean())\n",
    "print(df[df['city']=='Spb'].scoring.mean(), df[df['city']=='Msc'].scoring.mean())"
   ]
  },
  {
   "cell_type": "markdown",
   "metadata": {},
   "source": [
    "посчитаем значения по формулам\n",
    "$$S_b^2 = \\displaystyle\\sum_{i=1}^k (\\overline{y}_i - \\overline{y})^2 n_i, \\:\\:\n",
    "S_w^{2} = \\displaystyle\\sum_{i=1}^k \\displaystyle\\sum_{j=1}^{n_i} (y_{ij} - \\overline{y}_i)^2$$\n",
    "с учетом, что количество наблюдений по Спб и МСК равно 5"
   ]
  },
  {
   "cell_type": "code",
   "execution_count": 285,
   "metadata": {},
   "outputs": [],
   "source": [
    "scoring_spb = df[df['city']=='Spb'].scoring\n",
    "scoring_msc = df[df['city']=='Msc'].scoring\n",
    "scoring_mean_spb = df[df['city']=='Spb'].scoring.mean()\n",
    "scoring_mean_msc = df [df['city']=='Msc'].scoring.mean()\n",
    "scoring_mean = df.scoring.mean()\n",
    "n1 = 5\n",
    "n = n1 * 2\n",
    "k = 2\n",
    "k1 = k - 1"
   ]
  },
  {
   "cell_type": "code",
   "execution_count": 282,
   "metadata": {},
   "outputs": [
    {
     "data": {
      "text/plain": [
       "(41602.5, 263086.39999999997)"
      ]
     },
     "execution_count": 282,
     "metadata": {},
     "output_type": "execute_result"
    }
   ],
   "source": [
    "S2_b = n1 * (scoring_mean_spb - scoring_mean) ** 2 + n1 * (scoring_mean_msc - scoring_mean) ** 2\n",
    "S2_w = ((scoring_msc - scoring_mean_msc)**2).sum() + ((scoring_spb - scoring_mean_spb)**2).sum()\n",
    "S2_b, S2_w"
   ]
  },
  {
   "cell_type": "code",
   "execution_count": 286,
   "metadata": {},
   "outputs": [
    {
     "data": {
      "text/plain": [
       "(41602.5, 263086.39999999997)"
      ]
     },
     "execution_count": 286,
     "metadata": {},
     "output_type": "execute_result"
    }
   ],
   "source": [
    "sigma2_b = S2_b / k1\n",
    "sigma2_w = S2_w / k1\n",
    "sigma2_b, sigma2_w"
   ]
  },
  {
   "cell_type": "code",
   "execution_count": 287,
   "metadata": {},
   "outputs": [
    {
     "data": {
      "text/plain": [
       "0.15813246142712054"
      ]
     },
     "execution_count": 287,
     "metadata": {},
     "output_type": "execute_result"
    }
   ],
   "source": [
    "F =  sigma2_b / sigma2_w\n",
    "F"
   ]
  },
  {
   "cell_type": "code",
   "execution_count": 289,
   "metadata": {},
   "outputs": [
    {
     "data": {
      "text/plain": [
       "161.44763879758827"
      ]
     },
     "execution_count": 289,
     "metadata": {},
     "output_type": "execute_result"
    }
   ],
   "source": [
    "F_crit = stats.f.ppf(1 - alpha, k1, k1)\n",
    "F_crit"
   ]
  },
  {
   "cell_type": "code",
   "execution_count": null,
   "metadata": {},
   "outputs": [],
   "source": [
    "# Из полученных данныйх (F < F_crit) делаем вывод, \n",
    "# что принадлежность к городу не влияет на скоринг"
   ]
  },
  {
   "cell_type": "code",
   "execution_count": null,
   "metadata": {},
   "outputs": [],
   "source": []
  },
  {
   "cell_type": "markdown",
   "metadata": {},
   "source": [
    "#### 3. По каждой паре выборок посчитайте:\n",
    "\n",
    "выборочное среднее и дисперсию каждой выборки,\n",
    "коэффициент корреляции Пирсона и прямую линейной регрессии."
   ]
  },
  {
   "cell_type": "code",
   "execution_count": 97,
   "metadata": {},
   "outputs": [
    {
     "data": {
      "text/html": [
       "<div>\n",
       "<style scoped>\n",
       "    .dataframe tbody tr th:only-of-type {\n",
       "        vertical-align: middle;\n",
       "    }\n",
       "\n",
       "    .dataframe tbody tr th {\n",
       "        vertical-align: top;\n",
       "    }\n",
       "\n",
       "    .dataframe thead th {\n",
       "        text-align: right;\n",
       "    }\n",
       "</style>\n",
       "<table border=\"1\" class=\"dataframe\">\n",
       "  <thead>\n",
       "    <tr style=\"text-align: right;\">\n",
       "      <th></th>\n",
       "      <th>0</th>\n",
       "      <th>1</th>\n",
       "      <th>2</th>\n",
       "      <th>3</th>\n",
       "      <th>4</th>\n",
       "      <th>5</th>\n",
       "      <th>6</th>\n",
       "      <th>7</th>\n",
       "      <th>8</th>\n",
       "      <th>9</th>\n",
       "      <th>10</th>\n",
       "    </tr>\n",
       "  </thead>\n",
       "  <tbody>\n",
       "    <tr>\n",
       "      <th>x1</th>\n",
       "      <td>10.00</td>\n",
       "      <td>8.00</td>\n",
       "      <td>13.00</td>\n",
       "      <td>9.00</td>\n",
       "      <td>11.00</td>\n",
       "      <td>14.00</td>\n",
       "      <td>6.00</td>\n",
       "      <td>4.00</td>\n",
       "      <td>12.00</td>\n",
       "      <td>7.00</td>\n",
       "      <td>5.00</td>\n",
       "    </tr>\n",
       "    <tr>\n",
       "      <th>y1</th>\n",
       "      <td>8.04</td>\n",
       "      <td>6.95</td>\n",
       "      <td>7.58</td>\n",
       "      <td>8.81</td>\n",
       "      <td>8.33</td>\n",
       "      <td>9.96</td>\n",
       "      <td>7.24</td>\n",
       "      <td>4.26</td>\n",
       "      <td>10.84</td>\n",
       "      <td>4.82</td>\n",
       "      <td>5.68</td>\n",
       "    </tr>\n",
       "    <tr>\n",
       "      <th>x2</th>\n",
       "      <td>10.00</td>\n",
       "      <td>8.00</td>\n",
       "      <td>13.00</td>\n",
       "      <td>9.00</td>\n",
       "      <td>11.00</td>\n",
       "      <td>14.00</td>\n",
       "      <td>6.00</td>\n",
       "      <td>4.00</td>\n",
       "      <td>12.00</td>\n",
       "      <td>7.00</td>\n",
       "      <td>5.00</td>\n",
       "    </tr>\n",
       "    <tr>\n",
       "      <th>y2</th>\n",
       "      <td>9.14</td>\n",
       "      <td>8.14</td>\n",
       "      <td>8.74</td>\n",
       "      <td>8.77</td>\n",
       "      <td>9.26</td>\n",
       "      <td>8.10</td>\n",
       "      <td>6.13</td>\n",
       "      <td>3.10</td>\n",
       "      <td>9.13</td>\n",
       "      <td>7.26</td>\n",
       "      <td>4.74</td>\n",
       "    </tr>\n",
       "    <tr>\n",
       "      <th>x3</th>\n",
       "      <td>10.00</td>\n",
       "      <td>8.00</td>\n",
       "      <td>13.00</td>\n",
       "      <td>9.00</td>\n",
       "      <td>11.00</td>\n",
       "      <td>14.00</td>\n",
       "      <td>6.00</td>\n",
       "      <td>4.00</td>\n",
       "      <td>12.00</td>\n",
       "      <td>7.00</td>\n",
       "      <td>5.00</td>\n",
       "    </tr>\n",
       "    <tr>\n",
       "      <th>y3</th>\n",
       "      <td>7.46</td>\n",
       "      <td>6.77</td>\n",
       "      <td>12.74</td>\n",
       "      <td>7.11</td>\n",
       "      <td>7.81</td>\n",
       "      <td>8.84</td>\n",
       "      <td>6.08</td>\n",
       "      <td>5.39</td>\n",
       "      <td>8.15</td>\n",
       "      <td>6.42</td>\n",
       "      <td>5.73</td>\n",
       "    </tr>\n",
       "    <tr>\n",
       "      <th>x4</th>\n",
       "      <td>8.00</td>\n",
       "      <td>8.00</td>\n",
       "      <td>8.00</td>\n",
       "      <td>8.00</td>\n",
       "      <td>8.00</td>\n",
       "      <td>8.00</td>\n",
       "      <td>8.00</td>\n",
       "      <td>19.00</td>\n",
       "      <td>8.00</td>\n",
       "      <td>8.00</td>\n",
       "      <td>8.00</td>\n",
       "    </tr>\n",
       "    <tr>\n",
       "      <th>y4</th>\n",
       "      <td>6.58</td>\n",
       "      <td>5.76</td>\n",
       "      <td>7.71</td>\n",
       "      <td>8.84</td>\n",
       "      <td>8.47</td>\n",
       "      <td>7.04</td>\n",
       "      <td>5.25</td>\n",
       "      <td>12.50</td>\n",
       "      <td>5.56</td>\n",
       "      <td>7.91</td>\n",
       "      <td>6.89</td>\n",
       "    </tr>\n",
       "  </tbody>\n",
       "</table>\n",
       "</div>"
      ],
      "text/plain": [
       "       0     1      2     3      4      5     6      7      8     9     10\n",
       "x1  10.00  8.00  13.00  9.00  11.00  14.00  6.00   4.00  12.00  7.00  5.00\n",
       "y1   8.04  6.95   7.58  8.81   8.33   9.96  7.24   4.26  10.84  4.82  5.68\n",
       "x2  10.00  8.00  13.00  9.00  11.00  14.00  6.00   4.00  12.00  7.00  5.00\n",
       "y2   9.14  8.14   8.74  8.77   9.26   8.10  6.13   3.10   9.13  7.26  4.74\n",
       "x3  10.00  8.00  13.00  9.00  11.00  14.00  6.00   4.00  12.00  7.00  5.00\n",
       "y3   7.46  6.77  12.74  7.11   7.81   8.84  6.08   5.39   8.15  6.42  5.73\n",
       "x4   8.00  8.00   8.00  8.00   8.00   8.00  8.00  19.00   8.00  8.00  8.00\n",
       "y4   6.58  5.76   7.71  8.84   8.47   7.04  5.25  12.50   5.56  7.91  6.89"
      ]
     },
     "execution_count": 97,
     "metadata": {},
     "output_type": "execute_result"
    }
   ],
   "source": [
    "data = pd.DataFrame({\n",
    "    \"x1\": [10.0, 8.0, 13.0, 9.0, 11.0, 14.0, 6.0, 4.0, 12.0, 7.0, 5.0],\n",
    "    \"y1\": [8.04, 6.95, 7.58, 8.81, 8.33, 9.96, 7.24, 4.26, 10.84, 4.82, 5.68],\n",
    "    \"x2\": [10.0, 8.0, 13.0, 9.0, 11.0, 14.0, 6.0, 4.0, 12.0, 7.0, 5.0],\n",
    "    \"y2\": [9.14, 8.14, 8.74, 8.77, 9.26, 8.1, 6.13, 3.1, 9.13, 7.26, 4.74],\n",
    "    \"x3\": [10.0, 8.0, 13.0, 9.0, 11.0, 14.0, 6.0, 4.0, 12.0, 7.0, 5.0],\n",
    "    \"y3\": [7.46, 6.77, 12.74, 7.11, 7.81, 8.84, 6.08, 5.39, 8.15, 6.42, 5.73],\n",
    "    \"x4\": [8.0, 8.0, 8.0, 8.0, 8.0, 8.0, 8.0, 19.0, 8.0, 8.0, 8.0],\n",
    "    \"y4\": [6.58, 5.76, 7.71, 8.84, 8.47, 7.04, 5.25, 12.5, 5.56, 7.91, 6.89]\n",
    "}).T\n",
    "data"
   ]
  },
  {
   "cell_type": "code",
   "execution_count": 98,
   "metadata": {},
   "outputs": [
    {
     "data": {
      "text/html": [
       "<div>\n",
       "<style scoped>\n",
       "    .dataframe tbody tr th:only-of-type {\n",
       "        vertical-align: middle;\n",
       "    }\n",
       "\n",
       "    .dataframe tbody tr th {\n",
       "        vertical-align: top;\n",
       "    }\n",
       "\n",
       "    .dataframe thead th {\n",
       "        text-align: right;\n",
       "    }\n",
       "</style>\n",
       "<table border=\"1\" class=\"dataframe\">\n",
       "  <thead>\n",
       "    <tr style=\"text-align: right;\">\n",
       "      <th></th>\n",
       "      <th>0</th>\n",
       "      <th>1</th>\n",
       "      <th>2</th>\n",
       "      <th>3</th>\n",
       "      <th>4</th>\n",
       "      <th>5</th>\n",
       "      <th>6</th>\n",
       "      <th>7</th>\n",
       "      <th>8</th>\n",
       "      <th>9</th>\n",
       "      <th>10</th>\n",
       "    </tr>\n",
       "  </thead>\n",
       "  <tbody>\n",
       "    <tr>\n",
       "      <th>x1</th>\n",
       "      <td>10.0</td>\n",
       "      <td>8.0</td>\n",
       "      <td>13.0</td>\n",
       "      <td>9.0</td>\n",
       "      <td>11.0</td>\n",
       "      <td>14.0</td>\n",
       "      <td>6.0</td>\n",
       "      <td>4.0</td>\n",
       "      <td>12.0</td>\n",
       "      <td>7.0</td>\n",
       "      <td>5.0</td>\n",
       "    </tr>\n",
       "  </tbody>\n",
       "</table>\n",
       "</div>"
      ],
      "text/plain": [
       "      0    1     2    3     4     5    6    7     8    9    10\n",
       "x1  10.0  8.0  13.0  9.0  11.0  14.0  6.0  4.0  12.0  7.0  5.0"
      ]
     },
     "execution_count": 98,
     "metadata": {},
     "output_type": "execute_result"
    }
   ],
   "source": [
    "data[0:1]"
   ]
  },
  {
   "cell_type": "code",
   "execution_count": 115,
   "metadata": {},
   "outputs": [
    {
     "data": {
      "text/plain": [
       "8"
      ]
     },
     "execution_count": 115,
     "metadata": {},
     "output_type": "execute_result"
    }
   ],
   "source": [
    "rows = data.shape[0]\n",
    "rows"
   ]
  },
  {
   "cell_type": "code",
   "execution_count": 170,
   "metadata": {},
   "outputs": [
    {
     "name": "stdout",
     "output_type": "stream",
     "text": [
      "9.0\n",
      "7.500909090909093\n",
      "9.0\n",
      "7.500909090909091\n",
      "9.0\n",
      "7.500000000000001\n",
      "9.0\n",
      "7.50090909090909\n"
     ]
    }
   ],
   "source": [
    "# среднее по выборкам (x - признак, y - целевая переменная,\n",
    "# значит эти показатели нужно считать по каждой строке?)\n",
    "# в любом случае мы видим, что среднее и дисперсия признаков равны. \n",
    "# Аналонично и для признаков\n",
    "for i in range(0, rows):\n",
    "    print(data[i:i+1].mean(axis=1)[0])"
   ]
  },
  {
   "cell_type": "code",
   "execution_count": 135,
   "metadata": {},
   "outputs": [
    {
     "name": "stdout",
     "output_type": "stream",
     "text": [
      "11.0\n",
      "4.127269090909091\n",
      "11.0\n",
      "4.127629090909091\n",
      "11.0\n",
      "4.12262\n",
      "11.0\n",
      "4.12324909090909\n"
     ]
    }
   ],
   "source": [
    "# дисперсия по выборкам\n",
    "for i in range(0, rows):\n",
    "    print(data[i:i+1].var(axis=1)[0])"
   ]
  },
  {
   "cell_type": "code",
   "execution_count": 167,
   "metadata": {},
   "outputs": [
    {
     "data": {
      "text/plain": [
       "0.8164205163448399"
      ]
     },
     "execution_count": 167,
     "metadata": {},
     "output_type": "execute_result"
    }
   ],
   "source": [
    "np.corrcoef(data[0:1], data[1:2])[1][0]"
   ]
  },
  {
   "cell_type": "code",
   "execution_count": 172,
   "metadata": {},
   "outputs": [
    {
     "name": "stdout",
     "output_type": "stream",
     "text": [
      "0.8164205163448399\n",
      "0.8162365060002428\n",
      "0.8162867394895984\n",
      "0.8165214368885029\n"
     ]
    }
   ],
   "source": [
    "# коэффициенты Пирсона для 4-ех выборок\n",
    "for i in range(0, rows, 2):\n",
    "    print(np.corrcoef(data[i:i+1], data[i+1:i+2])[1][0])"
   ]
  },
  {
   "cell_type": "code",
   "execution_count": 224,
   "metadata": {},
   "outputs": [],
   "source": [
    "def b1(x, y):\n",
    "    return np.cov(x, y, ddof=1)[0, 1] / x.var(axis=1)[0]\n",
    "\n",
    "def b0(x, y):\n",
    "    return y.mean(axis=1)[0] - b1(x, y) * x.mean(axis=1)"
   ]
  },
  {
   "cell_type": "code",
   "execution_count": 230,
   "metadata": {},
   "outputs": [
    {
     "name": "stdout",
     "output_type": "stream",
     "text": [
      "3.0000909090909094 0.5000909090909093\n",
      "3.00090909090909 0.5000000000000001\n",
      "3.002454545454545 0.49972727272727285\n",
      "3.0017272727272726 0.49990909090909086\n"
     ]
    }
   ],
   "source": [
    "# коэффициенты регрессии по выборкам\n",
    "for i in range(0, rows, 2):\n",
    "    x = data[i:i+1]\n",
    "    y = data[i+1:i+2]\n",
    "    print(b0(x, y)[0], b1(x, y))"
   ]
  },
  {
   "cell_type": "code",
   "execution_count": 235,
   "metadata": {},
   "outputs": [
    {
     "data": {
      "image/png": "[encoded data removed]",
      "text/plain": [
       "<Figure size 720x432 with 4 Axes>"
      ]
     },
     "metadata": {
      "needs_background": "light"
     },
     "output_type": "display_data"
    }
   ],
   "source": [
    "# копипаста из 6-ого урока,чтобы не выглядело совсем нагло\n",
    "# хотя бы прокомментирую код, в подтверждение что я тут поразбирался :)\n",
    "fig, axes = plt.subplots(nrows=2, ncols=2) # 2 строки, 2 столбца\n",
    "fig.set_size_inches(10, 6) # размер графиков\n",
    "\n",
    "ax1, ax2, ax3, ax4 = axes.flatten() # 4 пары выборок, значит 4 графика\n",
    "\n",
    "for i, ax in enumerate(axes.flatten()):\n",
    "    x_key = f'x{i + 1}' # по сути это перечисление x1, x2, x3, x4\n",
    "    y_key = f'y{i + 1}'\n",
    "    \n",
    "    ax.scatter(data.T[x_key], data.T[y_key]) # тут строим график по значению\n",
    "                                             # x_key y_key для текущего \n",
    "                                             # шага цикла\n",
    "    \n",
    "    ax.set_xlim(3, 20) # здесб просто ограничение области видимости\n",
    "    ax.set_ylim(2, 14)"
   ]
  },
  {
   "cell_type": "code",
   "execution_count": null,
   "metadata": {},
   "outputs": [],
   "source": []
  },
  {
   "cell_type": "code",
   "execution_count": null,
   "metadata": {},
   "outputs": [],
   "source": []
  }
 ],
 "metadata": {
  "kernelspec": {
   "display_name": "Python 3",
   "language": "python",
   "name": "python3"
  },
  "language_info": {
   "codemirror_mode": {
    "name": "ipython",
    "version": 3
   },
   "file_extension": ".py",
   "mimetype": "text/x-python",
   "name": "python",
   "nbconvert_exporter": "python",
   "pygments_lexer": "ipython3",
   "version": "3.7.3"
  }
 },
 "nbformat": 4,
 "nbformat_minor": 2
}
