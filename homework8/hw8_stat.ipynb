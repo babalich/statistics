{
 "cells": [
  {
   "cell_type": "code",
   "execution_count": 1,
   "metadata": {},
   "outputs": [],
   "source": [
    "import numpy as np\n",
    "from scipy import stats"
   ]
  },
  {
   "cell_type": "markdown",
   "metadata": {},
   "source": [
    "1. Объясняемая переменная y зависит от двух категориальных факторов A и B, причём фактор A имеет 3 уровня, а фактор B - 4 уровня. Результаты наблюдений приведены в таблице:\n",
    "    С помощью двухфакторного дисперсионного анализа проверьте влияние каждого из факторов на переменную y."
   ]
  },
  {
   "cell_type": "code",
   "execution_count": 2,
   "metadata": {},
   "outputs": [],
   "source": [
    "y = np.array([[2.68, 3.29, 2.88, 4.45],\n",
    "              [4.12, 4.96, 5.09, 5.22],\n",
    "              [5.52, 4.50, 5.42, 5.29]])"
   ]
  },
  {
   "cell_type": "code",
   "execution_count": 3,
   "metadata": {},
   "outputs": [
    {
     "data": {
      "text/plain": [
       "4.96"
      ]
     },
     "execution_count": 3,
     "metadata": {},
     "output_type": "execute_result"
    }
   ],
   "source": [
    "y[1][1]"
   ]
  },
  {
   "cell_type": "code",
   "execution_count": 4,
   "metadata": {},
   "outputs": [
    {
     "name": "stdout",
     "output_type": "stream",
     "text": [
      " Уровней фактора А - 3, уровшей фактора В - 4. Общее число наблюдений - 12\n"
     ]
    }
   ],
   "source": [
    "m = y.shape[0]\n",
    "k = y.shape[1]\n",
    "n = m*k\n",
    "print(f' Уровней фактора А - {m}, уровшей фактора В - {k}. Общее число наблюдений - {n}')"
   ]
  },
  {
   "cell_type": "code",
   "execution_count": 5,
   "metadata": {},
   "outputs": [
    {
     "data": {
      "text/plain": [
       "4.451666666666666"
      ]
     },
     "execution_count": 5,
     "metadata": {},
     "output_type": "execute_result"
    }
   ],
   "source": [
    "y_mean = y.mean()\n",
    "y_mean"
   ]
  },
  {
   "cell_type": "markdown",
   "metadata": {},
   "source": [
    "суммы квадратов отклонений\n",
    "$$S_A^2 = k \\cdot \\displaystyle\\sum_{i=1}^m \\left( \\overline{y_{i \\ast}} - \\overline{y} \\right)^2, \\:\n",
    "S_B^2 = m \\cdot \\displaystyle\\sum_{j=1}^k \\left( \\overline{y_{\\ast j}} - \\overline{y} \\right)^2, \\:\n",
    "S_w^2 = \\displaystyle\\sum_{i=1}^m \\displaystyle\\sum_{j=1}^k \\left( y_{ij} - \\overline{y_{i \\ast}} - \\overline{y_{\\ast j}} + \\overline{y} \\right)^2.$$"
   ]
  },
  {
   "cell_type": "code",
   "execution_count": 6,
   "metadata": {},
   "outputs": [
    {
     "data": {
      "text/plain": [
       "7.8407166666666654"
      ]
     },
     "execution_count": 6,
     "metadata": {},
     "output_type": "execute_result"
    }
   ],
   "source": [
    "S2_a = k * sum([(y[i].mean() - y_mean)**2 for i in range(m)])\n",
    "S2_a"
   ]
  },
  {
   "cell_type": "code",
   "execution_count": 7,
   "metadata": {},
   "outputs": [
    {
     "data": {
      "text/plain": [
       "1.338166666666669"
      ]
     },
     "execution_count": 7,
     "metadata": {},
     "output_type": "execute_result"
    }
   ],
   "source": [
    "S2_b = m * sum([(y[:,j:j+1].mean() - y_mean)**2 for j in range(k)])\n",
    "S2_b"
   ]
  },
  {
   "cell_type": "code",
   "execution_count": 8,
   "metadata": {},
   "outputs": [
    {
     "data": {
      "text/plain": [
       "1.9298833333333327"
      ]
     },
     "execution_count": 8,
     "metadata": {},
     "output_type": "execute_result"
    }
   ],
   "source": [
    "S2_w = 0\n",
    "for i in range(m):\n",
    "    for j in range(k):\n",
    "        S2_w += (y[i][j] - y[i].mean() - y[:,j:j+1].mean() + y_mean)**2\n",
    "S2_w"
   ]
  },
  {
   "cell_type": "markdown",
   "metadata": {},
   "source": [
    "Оценки дисперсий:\n",
    "$$\\sigma_A^2 = \\dfrac{S_A^2}{m - 1}, \\: \\sigma_B^2 = \\dfrac{S_B^2}{k - 1}, \\:\n",
    "\\sigma_w^2 = \\dfrac{S_{res}^2}{(k - 1) (m - 1)}.$$\n"
   ]
  },
  {
   "cell_type": "code",
   "execution_count": 9,
   "metadata": {},
   "outputs": [
    {
     "data": {
      "text/plain": [
       "(3.9203583333333327, 0.4460555555555563, 0.32164722222222214)"
      ]
     },
     "execution_count": 9,
     "metadata": {},
     "output_type": "execute_result"
    }
   ],
   "source": [
    "sigma2_a = S2_a / (m-1)\n",
    "sigma2_b = S2_b / (k-1)\n",
    "sigma2_w = S2_w / ((k-1) * (m-1))\n",
    "sigma2_a, sigma2_b, sigma2_w"
   ]
  },
  {
   "cell_type": "code",
   "execution_count": 10,
   "metadata": {},
   "outputs": [
    {
     "data": {
      "text/plain": [
       "(12.188379262995173, 1.386785038819275)"
      ]
     },
     "execution_count": 10,
     "metadata": {},
     "output_type": "execute_result"
    }
   ],
   "source": [
    "FA = sigma2_a / sigma2_w\n",
    "FB = sigma2_b / sigma2_w\n",
    "FA, FB"
   ]
  },
  {
   "cell_type": "code",
   "execution_count": 11,
   "metadata": {},
   "outputs": [],
   "source": [
    "KA_1 = m - 1\n",
    "KA_2 = n - m\n",
    "KB_1 = k - 1\n",
    "KB_2 = n - k"
   ]
  },
  {
   "cell_type": "code",
   "execution_count": 12,
   "metadata": {},
   "outputs": [
    {
     "data": {
      "text/plain": [
       "(4.25649472909375, 4.06618055135116)"
      ]
     },
     "execution_count": 12,
     "metadata": {},
     "output_type": "execute_result"
    }
   ],
   "source": [
    "alpha = 0.05\n",
    "FA_crit = stats.f.ppf(1 - alpha, KA_1, KA_2)\n",
    "FB_crit = stats.f.ppf(1 - alpha, KB_1, KB_2)\n",
    "FA_crit, FB_crit"
   ]
  },
  {
   "cell_type": "code",
   "execution_count": 13,
   "metadata": {},
   "outputs": [
    {
     "data": {
      "text/plain": [
       "(True, False)"
      ]
     },
     "execution_count": 13,
     "metadata": {},
     "output_type": "execute_result"
    }
   ],
   "source": [
    "FA > FA_crit, FB > FB_crit"
   ]
  },
  {
   "cell_type": "code",
   "execution_count": 14,
   "metadata": {},
   "outputs": [],
   "source": [
    "# Делаем вывод, что y завит от фактора А, но не зависит от фактора В"
   ]
  },
  {
   "cell_type": "markdown",
   "metadata": {},
   "source": [
    "2 С помощью критерия Стьюдента для двух независимых выборок проверьте гипотезу о равенстве среднего роста футболистов и хоккеистов, основываясь на результатах измерений:\n"
   ]
  },
  {
   "cell_type": "markdown",
   "metadata": {},
   "source": [
    "Для проверки гипотезы рассмотрим статистику\n",
    "$$T = \\dfrac{\\overline{X_1} -\\overline{X_2}}{\\sqrt{\\frac{\\sigma_1^2}{n_1} + \\frac{\\sigma_2^2}{n_2}}}$$\n",
    "где $\\sigma_i$ — несмещённая оценка среднего квадратического отклонения, $n_i$ — число элементов в выборке."
   ]
  },
  {
   "cell_type": "code",
   "execution_count": 15,
   "metadata": {},
   "outputs": [],
   "source": [
    "football_players = np.array([173, 175, 180, 178, 177, 185, 183, 182])\n",
    "hockey_players = np.array([177, 179, 180, 188, 177, 172, 171, 184, 180])"
   ]
  },
  {
   "cell_type": "code",
   "execution_count": 16,
   "metadata": {},
   "outputs": [],
   "source": [
    "fp_mean = football_players.mean()\n",
    "hp_mean =  hockey_players.mean()\n",
    "sigma_f = np.std(football_players, ddof=1)\n",
    "sigma_h = np.std(football_players, ddof=1)"
   ]
  },
  {
   "cell_type": "code",
   "execution_count": 19,
   "metadata": {},
   "outputs": [
    {
     "data": {
      "text/plain": [
       "0.22889008794020144"
      ]
     },
     "execution_count": 19,
     "metadata": {},
     "output_type": "execute_result"
    }
   ],
   "source": [
    "T = (fp_mean - hp_mean) / np.sqrt((sigma_f**2 / football_players.size) + (sigma_h**2 / hockey_players.size))\n",
    "T"
   ]
  },
  {
   "cell_type": "markdown",
   "metadata": {},
   "source": [
    "$$P(- t_{1 - \\alpha/2, \\: n + m -2} \\leq T \\leq t_{1 - \\alpha/2, \\: n + m - 2}) = p.$$"
   ]
  },
  {
   "cell_type": "code",
   "execution_count": 22,
   "metadata": {},
   "outputs": [
    {
     "data": {
      "text/plain": [
       "(-2.131449545559323, 2.131449545559323)"
      ]
     },
     "execution_count": 22,
     "metadata": {},
     "output_type": "execute_result"
    }
   ],
   "source": [
    "# полученное значение входит в доверительный интервал, значит нулевая гипотеза\n",
    "# верна - средний рост футболистов и хоккеистов равен (для p = 0.95)\n",
    "t_stud = stats.t.ppf(1 - alpha / 2, df=football_players.size + hockey_players.size - 2)\n",
    "(-t_stud, t_stud)"
   ]
  },
  {
   "cell_type": "code",
   "execution_count": null,
   "metadata": {},
   "outputs": [],
   "source": []
  },
  {
   "cell_type": "code",
   "execution_count": null,
   "metadata": {},
   "outputs": [],
   "source": []
  }
 ],
 "metadata": {
  "kernelspec": {
   "display_name": "Python 3",
   "language": "python",
   "name": "python3"
  },
  "language_info": {
   "codemirror_mode": {
    "name": "ipython",
    "version": 3
   },
   "file_extension": ".py",
   "mimetype": "text/x-python",
   "name": "python",
   "nbconvert_exporter": "python",
   "pygments_lexer": "ipython3",
   "version": "3.7.3"
  }
 },
 "nbformat": 4,
 "nbformat_minor": 2
}
